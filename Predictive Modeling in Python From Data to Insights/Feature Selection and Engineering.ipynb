{
 "cells": [
  {
   "cell_type": "code",
   "execution_count": 38,
   "id": "73380a7b-6f38-45f8-8c04-a000380360d6",
   "metadata": {},
   "outputs": [],
   "source": [
    "import pandas as pd \n",
    "from sklearn.feature_selection import SelectKBest, f_regression\n",
    "from sklearn.preprocessing import PolynomialFeatures\n",
    "from sklearn.datasets import load_diabetes"
   ]
  },
  {
   "cell_type": "code",
   "execution_count": 39,
   "id": "b1f52c14-aa57-4008-a305-2e49720e9007",
   "metadata": {},
   "outputs": [],
   "source": [
    "data = load_diabetes()\n",
    "X = pd.DataFrame(data.data, columns=data.feature_names)  # แปลงเป็น DataFrame\n",
    "y = pd.Series(data.target, name='target')"
   ]
  },
  {
   "cell_type": "code",
   "execution_count": 40,
   "id": "c1e73fc4-fc01-44f9-a5a7-da9559f51200",
   "metadata": {},
   "outputs": [],
   "source": [
    "correlation = X.corrwith(pd.Series(y)).abs().sort_values(ascending = False)\n",
    "selected_features = correlation[correlation > 0.5].index.tolist()"
   ]
  },
  {
   "cell_type": "code",
   "execution_count": 41,
   "id": "3f33a663-45ae-4906-a594-4221a9a4d26e",
   "metadata": {},
   "outputs": [],
   "source": [
    "poly = PolynomialFeatures(degree = 2, include_bias = False)\n",
    "X_poly = poly.fit_transform(X[selected_features])"
   ]
  },
  {
   "cell_type": "code",
   "execution_count": 42,
   "id": "f49f52be-c188-41df-922f-d72313acc7ea",
   "metadata": {},
   "outputs": [],
   "source": [
    "selector = SelectKBest(score_func=f_regression, k='all')\n",
    "X_selected = selector.fit_transform(X_poly, y)"
   ]
  },
  {
   "cell_type": "code",
   "execution_count": 43,
   "id": "c0b4fc13-8aaf-49d4-85ff-04db70e54979",
   "metadata": {},
   "outputs": [
    {
     "name": "stdout",
     "output_type": "stream",
     "text": [
      "Selected features: ['bmi', 's5', 'bmi^2', 'bmi s5', 's5^2']\n",
      "Shape of selected features :  (442, 5)\n"
     ]
    }
   ],
   "source": [
    "selected_feature_names = poly.get_feature_names_out(input_features=selected_features)[selector.get_support()]\n",
    "print(\"Selected features:\", selected_feature_names.tolist())\n",
    "print(\"Shape of selected features : \", X_selected.shape)"
   ]
  },
  {
   "cell_type": "code",
   "execution_count": null,
   "id": "0f70b093-3d78-4400-b6c6-5e6d187f189d",
   "metadata": {},
   "outputs": [],
   "source": []
  }
 ],
 "metadata": {
  "kernelspec": {
   "display_name": "Python 3 (ipykernel)",
   "language": "python",
   "name": "python3"
  },
  "language_info": {
   "codemirror_mode": {
    "name": "ipython",
    "version": 3
   },
   "file_extension": ".py",
   "mimetype": "text/x-python",
   "name": "python",
   "nbconvert_exporter": "python",
   "pygments_lexer": "ipython3",
   "version": "3.11.7"
  }
 },
 "nbformat": 4,
 "nbformat_minor": 5
}

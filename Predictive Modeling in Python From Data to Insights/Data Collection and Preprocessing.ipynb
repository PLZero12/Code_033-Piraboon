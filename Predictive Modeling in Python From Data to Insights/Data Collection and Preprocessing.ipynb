{
 "cells": [
  {
   "cell_type": "code",
   "execution_count": 22,
   "id": "e9afcee9-b813-40b1-b85c-bdd9ff1d1968",
   "metadata": {},
   "outputs": [],
   "source": [
    "import pandas as pd\n",
    "import numpy as np\n",
    "from sklearn.preprocessing import StandardScaler\n",
    "from sklearn.datasets import load_iris"
   ]
  },
  {
   "cell_type": "code",
   "execution_count": 23,
   "id": "0e15473c-1c5c-44af-b1b1-8cf48995ed08",
   "metadata": {},
   "outputs": [],
   "source": [
    "data = pd.read_csv('Iris.csv')"
   ]
  },
  {
   "cell_type": "code",
   "execution_count": 24,
   "id": "2a13358c-d98f-4b7e-8140-d89e9d31c61e",
   "metadata": {},
   "outputs": [],
   "source": [
    "data['SepalLengthCm'].fillna(data['SepalLengthCm'].mean(), inplace = True)\n",
    "data['PetalWidthCm'].fillna(data['PetalWidthCm'].median(), inplace = True)"
   ]
  },
  {
   "cell_type": "code",
   "execution_count": 25,
   "id": "ca3e92aa-1164-4b2a-b692-20c744b91dcc",
   "metadata": {},
   "outputs": [],
   "source": [
    "data.drop_duplicates(inplace = True)"
   ]
  },
  {
   "cell_type": "code",
   "execution_count": 26,
   "id": "54dd1593-b5ba-43e4-861a-c90304638ff1",
   "metadata": {},
   "outputs": [],
   "source": [
    "data = pd.get_dummies(data, columns = ['Species'])"
   ]
  },
  {
   "cell_type": "code",
   "execution_count": 27,
   "id": "e4391679-27a0-4cad-86b2-8a0dbf8641b6",
   "metadata": {},
   "outputs": [],
   "source": [
    "scaler = StandardScaler()\n",
    "numerical_features = ['SepalLengthCm', 'PetalWidthCm']\n",
    "data[numerical_features] = scaler.fit_transform(data[numerical_features])"
   ]
  },
  {
   "cell_type": "code",
   "execution_count": 28,
   "id": "244a7108-fc8b-4637-ae57-d638b037049d",
   "metadata": {},
   "outputs": [
    {
     "name": "stdout",
     "output_type": "stream",
     "text": [
      "   Id  SepalLengthCm  SepalWidthCm  PetalLengthCm  PetalWidthCm  \\\n",
      "0   1      -0.900681           3.5            1.4     -1.312977   \n",
      "1   2      -1.143017           3.0            1.4     -1.312977   \n",
      "2   3      -1.385353           3.2            1.3     -1.312977   \n",
      "3   4      -1.506521           3.1            1.5     -1.312977   \n",
      "4   5      -1.021849           3.6            1.4     -1.312977   \n",
      "\n",
      "   Species_Iris-setosa  Species_Iris-versicolor  Species_Iris-virginica  \n",
      "0                 True                    False                   False  \n",
      "1                 True                    False                   False  \n",
      "2                 True                    False                   False  \n",
      "3                 True                    False                   False  \n",
      "4                 True                    False                   False  \n",
      "<class 'pandas.core.frame.DataFrame'>\n",
      "RangeIndex: 150 entries, 0 to 149\n",
      "Data columns (total 8 columns):\n",
      " #   Column                   Non-Null Count  Dtype  \n",
      "---  ------                   --------------  -----  \n",
      " 0   Id                       150 non-null    int64  \n",
      " 1   SepalLengthCm            150 non-null    float64\n",
      " 2   SepalWidthCm             150 non-null    float64\n",
      " 3   PetalLengthCm            150 non-null    float64\n",
      " 4   PetalWidthCm             150 non-null    float64\n",
      " 5   Species_Iris-setosa      150 non-null    bool   \n",
      " 6   Species_Iris-versicolor  150 non-null    bool   \n",
      " 7   Species_Iris-virginica   150 non-null    bool   \n",
      "dtypes: bool(3), float64(4), int64(1)\n",
      "memory usage: 6.4 KB\n",
      "None\n"
     ]
    }
   ],
   "source": [
    "print(data.head())\n",
    "print(data.info())"
   ]
  },
  {
   "cell_type": "code",
   "execution_count": null,
   "id": "80b56944-66ce-405c-b901-d5e13ed4f9b3",
   "metadata": {},
   "outputs": [],
   "source": []
  }
 ],
 "metadata": {
  "kernelspec": {
   "display_name": "Python 3 (ipykernel)",
   "language": "python",
   "name": "python3"
  },
  "language_info": {
   "codemirror_mode": {
    "name": "ipython",
    "version": 3
   },
   "file_extension": ".py",
   "mimetype": "text/x-python",
   "name": "python",
   "nbconvert_exporter": "python",
   "pygments_lexer": "ipython3",
   "version": "3.11.7"
  }
 },
 "nbformat": 4,
 "nbformat_minor": 5
}

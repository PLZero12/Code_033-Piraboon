{
 "cells": [
  {
   "cell_type": "code",
   "execution_count": 1,
   "id": "d07de220",
   "metadata": {},
   "outputs": [
    {
     "name": "stdout",
     "output_type": "stream",
     "text": [
      "Accuracy: 0.50\n",
      "Confusion Matrix:\n",
      "[[2 0]\n",
      " [2 0]]\n",
      "Prediction for new email: Spam\n"
     ]
    }
   ],
   "source": [
    "import numpy as np\n",
    "from sklearn.feature_extraction.text import CountVectorizer\n",
    "from sklearn.naive_bayes import MultinomialNB\n",
    "from sklearn.model_selection import train_test_split\n",
    "from sklearn.metrics import accuracy_score, confusion_matrix\n",
    "\n",
    "emails = [\n",
    "    \"Get rich quick!\", \"Buy now, limited offer\", \"Meeting at 3 PM\",\n",
    "    \"Free gift inside\", \"Project deadline tomorrow\", \"Discount on luxury watches\",\n",
    "    \"Team lunch next week\", \"You've won a prize\", \"Conference call in 5 minutes\",\n",
    "    \"Enlarge your profits\", \"Quarterly report attached\", \"Your package has shipped\"]\n",
    "labels = np.array([1, 1, 0, 1, 0, 1, 0, 1, 0, 1, 0, 0])\n",
    "\n",
    "X_train, X_test, y_train, y_test = train_test_split(emails, labels, test_size=0.3, random_state=42)\n",
    "\n",
    "vectorizer = CountVectorizer()\n",
    "X_train_vectorized = vectorizer.fit_transform(X_train)\n",
    "X_test_vectorized = vectorizer.transform(X_test)\n",
    "\n",
    "model = MultinomialNB()\n",
    "model.fit(X_train_vectorized, y_train)\n",
    "\n",
    "y_pred = model.predict(X_test_vectorized)\n",
    "\n",
    "accuracy = accuracy_score(y_test, y_pred)\n",
    "conf_matrix = confusion_matrix(y_test, y_pred)\n",
    "print(f\"Accuracy: {accuracy:.2f}\")\n",
    "print(\"Confusion Matrix:\")\n",
    "print(conf_matrix)\n",
    "\n",
    "new_email = [\"Claim your free trial now!\"]\n",
    "new_email_vectorized = vectorizer.transform(new_email)\n",
    "prediction = model.predict(new_email_vectorized)\n",
    "print(f\"Prediction for new email: {'Spam' if prediction[0] == 1 else 'Not Spam'}\")"
   ]
  },
  {
   "cell_type": "code",
   "execution_count": null,
   "id": "ede025f9",
   "metadata": {},
   "outputs": [],
   "source": []
  }
 ],
 "metadata": {
  "kernelspec": {
   "display_name": "Python 3 (ipykernel)",
   "language": "python",
   "name": "python3"
  },
  "language_info": {
   "codemirror_mode": {
    "name": "ipython",
    "version": 3
   },
   "file_extension": ".py",
   "mimetype": "text/x-python",
   "name": "python",
   "nbconvert_exporter": "python",
   "pygments_lexer": "ipython3",
   "version": "3.11.5"
  }
 },
 "nbformat": 4,
 "nbformat_minor": 5
}

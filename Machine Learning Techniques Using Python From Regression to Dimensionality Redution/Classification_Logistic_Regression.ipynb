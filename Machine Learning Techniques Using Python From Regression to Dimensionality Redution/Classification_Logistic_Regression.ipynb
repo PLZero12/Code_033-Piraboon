{
 "cells": [
  {
   "cell_type": "code",
   "execution_count": 1,
   "id": "95da18da",
   "metadata": {},
   "outputs": [
    {
     "name": "stdout",
     "output_type": "stream",
     "text": [
      "Accuracy: 0.6666666666666666\n",
      "Confusion Matrix:\n",
      "[[1 1]\n",
      " [0 1]]\n",
      "Prediction for new student: Fail\n"
     ]
    }
   ],
   "source": [
    "import numpy as np\n",
    "from sklearn.linear_model import LogisticRegression\n",
    "from sklearn.model_selection import train_test_split\n",
    "from sklearn.metrics import accuracy_score, confusion_matrix\n",
    "\n",
    "X = np.array([[2, 50], [4, 70], [6, 80], [8, 90], [10, 85],\n",
    "              [1, 40], [3, 60], [5, 75], [7, 80], [9, 95]])\n",
    "y = np.array([0, 0, 1, 1, 1, 0, 0, 1, 1, 1])  # 0: Fail, 1: Pass\n",
    "\n",
    "X_train, X_test, y_train, y_test = train_test_split(X, y, test_size=0.3, random_state=42)\n",
    "\n",
    "model = LogisticRegression()\n",
    "model.fit(X_train, y_train)\n",
    "\n",
    "y_pred = model.predict(X_test)\n",
    "\n",
    "accuracy = accuracy_score(y_test, y_pred)\n",
    "conf_matrix = confusion_matrix(y_test, y_pred)\n",
    "\n",
    "print(f\"Accuracy: {accuracy}\")\n",
    "print(\"Confusion Matrix:\")\n",
    "print(conf_matrix)\n",
    "\n",
    "new_student = np.array([[5, 65]])\n",
    "prediction = model.predict(new_student)\n",
    "print(f\"Prediction for new student: {'Pass' if prediction[0] == 1 else 'Fail'}\")"
   ]
  },
  {
   "cell_type": "code",
   "execution_count": null,
   "id": "ac641f04",
   "metadata": {},
   "outputs": [],
   "source": []
  }
 ],
 "metadata": {
  "kernelspec": {
   "display_name": "Python 3 (ipykernel)",
   "language": "python",
   "name": "python3"
  },
  "language_info": {
   "codemirror_mode": {
    "name": "ipython",
    "version": 3
   },
   "file_extension": ".py",
   "mimetype": "text/x-python",
   "name": "python",
   "nbconvert_exporter": "python",
   "pygments_lexer": "ipython3",
   "version": "3.12.4"
  }
 },
 "nbformat": 4,
 "nbformat_minor": 5
}

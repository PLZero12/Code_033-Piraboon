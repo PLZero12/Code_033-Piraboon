{
 "cells": [
  {
   "cell_type": "code",
   "execution_count": 1,
   "id": "c5d9a53d",
   "metadata": {},
   "outputs": [
    {
     "name": "stdout",
     "output_type": "stream",
     "text": [
      "Mean squared error: 128318889.36\n",
      "R-squared score: 0.68\n",
      "Predicted price for the new house: $263,906.95\n"
     ]
    },
    {
     "name": "stderr",
     "output_type": "stream",
     "text": [
      "C:\\Users\\admin\\Documents\\Anaconda\\Lib\\site-packages\\sklearn\\base.py:439: UserWarning: X does not have valid feature names, but LinearRegression was fitted with feature names\n",
      "  warnings.warn(\n"
     ]
    }
   ],
   "source": [
    "import pandas as pd\n",
    "from sklearn.model_selection import train_test_split\n",
    "from sklearn.linear_model import LinearRegression\n",
    "from sklearn.metrics import mean_squared_error, r2_score\n",
    "\n",
    "data = {\n",
    "    'size': [1400, 1600, 1700, 1875, 1100, 1550, 2350, 2450, 1425, 1700],\n",
    "    'bedrooms': [3, 3, 2, 4, 2, 3, 4, 5, 3, 3],  \n",
    "    'location': [1, 1, 2, 3, 1, 2, 2, 3, 1, 2],  \n",
    "    'price': [200000, 250000, 220000, 300000, 180000, 240000, 350000, 380000, 210000, 260000]\n",
    "}\n",
    "df = pd.DataFrame(data)\n",
    "\n",
    "\n",
    "X = df[['size', 'bedrooms', 'location']]\n",
    "y = df['price']\n",
    "\n",
    "\n",
    "X_train, X_test, y_train, y_test = train_test_split(X, y, test_size=0.2, random_state=42)\n",
    "\n",
    "\n",
    "model = LinearRegression()\n",
    "model.fit(X_train, y_train)\n",
    "\n",
    "\n",
    "y_pred = model.predict(X_test)\n",
    "\n",
    "\n",
    "mse = mean_squared_error(y_test, y_pred)\n",
    "r2 = r2_score(y_test, y_pred)\n",
    "print(f\"Mean squared error: {mse:.2f}\")\n",
    "print(f\"R-squared score: {r2:.2f}\")\n",
    "\n",
    "\n",
    "new_house = [[1800, 3, 2]]  \n",
    "predicted_price = model.predict(new_house)\n",
    "print(f\"Predicted price for the new house: ${predicted_price[0]:,.2f}\")"
   ]
  },
  {
   "cell_type": "code",
   "execution_count": null,
   "id": "4a8200ea-bc67-445e-9b19-1d90216c1184",
   "metadata": {},
   "outputs": [],
   "source": []
  }
 ],
 "metadata": {
  "kernelspec": {
   "display_name": "Python 3 (ipykernel)",
   "language": "python",
   "name": "python3"
  },
  "language_info": {
   "codemirror_mode": {
    "name": "ipython",
    "version": 3
   },
   "file_extension": ".py",
   "mimetype": "text/x-python",
   "name": "python",
   "nbconvert_exporter": "python",
   "pygments_lexer": "ipython3",
   "version": "3.11.7"
  }
 },
 "nbformat": 4,
 "nbformat_minor": 5
}
